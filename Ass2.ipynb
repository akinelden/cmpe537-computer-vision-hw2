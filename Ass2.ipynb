{
 "cells": [
  {
   "cell_type": "code",
   "execution_count": 1,
   "metadata": {},
   "outputs": [],
   "source": [
    "import numpy as np\n",
    "from PIL import Image\n",
    "from matplotlib import pyplot as plt\n",
    "import image_stitch\n",
    "import scipy\n",
    "from scipy import interpolate"
   ]
  },
  {
   "cell_type": "code",
   "execution_count": 37,
   "metadata": {},
   "outputs": [
    {
     "data": {
      "text/plain": [
       "<module 'image_stitch' from 'c:\\\\Users\\\\mehmet.akin\\\\Dropbox\\\\BOUN 5-1\\\\CMPE537\\\\Ass2\\\\image_stitch.py'>"
      ]
     },
     "execution_count": 37,
     "metadata": {},
     "output_type": "execute_result"
    }
   ],
   "source": [
    "import importlib\n",
    "importlib.reload(image_stitch)"
   ]
  },
  {
   "cell_type": "code",
   "execution_count": 3,
   "metadata": {},
   "outputs": [],
   "source": [
    "%matplotlib qt"
   ]
  },
  {
   "cell_type": "code",
   "execution_count": 4,
   "metadata": {},
   "outputs": [],
   "source": [
    "path = \"north_campus/left-1.jpg\"\n",
    "left1 = Image.open(path)\n",
    "path = \"north_campus/left-2.jpg\"\n",
    "left2 = Image.open(path)"
   ]
  },
  {
   "cell_type": "code",
   "execution_count": 5,
   "metadata": {
    "scrolled": true
   },
   "outputs": [
    {
     "name": "stdout",
     "output_type": "stream",
     "text": [
      "Please select pairs one by one.\n"
     ]
    }
   ],
   "source": [
    "#coords1, coords2 = image_stitch.select_pairs(left2, left1, 6)"
   ]
  },
  {
   "cell_type": "code",
   "execution_count": 9,
   "metadata": {},
   "outputs": [
    {
     "data": {
      "text/plain": [
       "array([[ 421.4985378 , 1018.50277818],\n",
       "       [ 389.91497295,  896.37966077],\n",
       "       [  36.17904664, 1208.00416728],\n",
       "       [ 156.19659307,  700.56155871],\n",
       "       [ 427.81525077, 1182.7373154 ],\n",
       "       [  42.49575961,  847.951528  ]])"
      ]
     },
     "execution_count": 9,
     "metadata": {},
     "output_type": "execute_result"
    }
   ],
   "source": [
    "coords1 = np.array([[1018.50277818,  421.4985378 ],\n",
    "       [ 896.37966077,  389.91497295],\n",
    "       [1208.00416728,   36.17904664],\n",
    "       [ 700.56155871,  156.19659307],\n",
    "       [1182.7373154 ,  427.81525077],\n",
    "       [ 847.951528  ,   42.49575961]])\n",
    "coords1 = coords1[:, [1,0]]\n",
    "coords1"
   ]
  },
  {
   "cell_type": "code",
   "execution_count": 8,
   "metadata": {},
   "outputs": [
    {
     "data": {
      "text/plain": [
       "array([[426.42557391, 340.50891943],\n",
       "       [399.05315105, 249.96936687],\n",
       "       [ 70.58407662, 534.2214505 ],\n",
       "       [137.9623483 ,  24.67327095],\n",
       "       [424.32000292, 487.89888873],\n",
       "       [ 34.78936979, 193.11895014]])"
      ]
     },
     "execution_count": 8,
     "metadata": {},
     "output_type": "execute_result"
    }
   ],
   "source": [
    "coords2 =np.array([[340.50891943, 426.42557391],\n",
    "       [249.96936687, 399.05315105],\n",
    "       [534.2214505 ,  70.58407662],\n",
    "       [ 24.67327095, 137.9623483 ],\n",
    "       [487.89888873, 424.32000292],\n",
    "       [193.11895014,  34.78936979]])\n",
    "coords2 = coords2[:, [1,0]]\n",
    "coords2"
   ]
  },
  {
   "cell_type": "code",
   "execution_count": 10,
   "metadata": {},
   "outputs": [],
   "source": [
    "A = image_stitch.get_matrix_A(coords1, coords2)"
   ]
  },
  {
   "cell_type": "code",
   "execution_count": 38,
   "metadata": {},
   "outputs": [
    {
     "data": {
      "text/plain": [
       "array([[-8.75285051e-04,  5.28797257e-05,  5.33154611e-03],\n",
       "       [ 4.46437994e-02, -2.51755217e-01,  4.01311496e-01],\n",
       "       [-8.79509662e-01,  2.89604144e-03,  7.05814797e-04]])"
      ]
     },
     "execution_count": 38,
     "metadata": {},
     "output_type": "execute_result"
    }
   ],
   "source": [
    "H = image_stitch.computeH(coords1, coords2, False)\n",
    "H"
   ]
  },
  {
   "cell_type": "code",
   "execution_count": 41,
   "metadata": {},
   "outputs": [
    {
     "data": {
      "text/plain": [
       "(0, -321, 0, 32)"
      ]
     },
     "execution_count": 41,
     "metadata": {},
     "output_type": "execute_result"
    }
   ],
   "source": [
    "image_stitch.get_borders(np.array(left2), H)"
   ]
  }
 ],
 "metadata": {
  "interpreter": {
   "hash": "60cd2c64d7c100ab4d7dc41134855bc8380746d9a1e62b92f94b98a62fb18db1"
  },
  "kernelspec": {
   "display_name": "Python 3 (ipykernel)",
   "language": "python",
   "name": "python3"
  },
  "language_info": {
   "codemirror_mode": {
    "name": "ipython",
    "version": 3
   },
   "file_extension": ".py",
   "mimetype": "text/x-python",
   "name": "python",
   "nbconvert_exporter": "python",
   "pygments_lexer": "ipython3",
   "version": "3.9.5"
  }
 },
 "nbformat": 4,
 "nbformat_minor": 2
}
